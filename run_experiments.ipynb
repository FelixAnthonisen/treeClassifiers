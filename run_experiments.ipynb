{
 "cells": [
  {
   "cell_type": "markdown",
   "metadata": {},
   "source": [
    "# Project 1 – Decision Trees and Random Forests"
   ]
  },
  {
   "cell_type": "code",
   "execution_count": 81,
   "metadata": {},
   "outputs": [
    {
     "name": "stdout",
     "output_type": "stream",
     "text": [
      "The autoreload extension is already loaded. To reload it, use:\n",
      "  %reload_ext autoreload\n"
     ]
    }
   ],
   "source": [
    "# Reload all modules without having to restart the kernel\n",
    "# Useful for development if you have edited any of the external code files.\n",
    "%load_ext autoreload\n",
    "%autoreload 2\n",
    "\n",
    "# Imports\n",
    "import numpy as np\n",
    "from sklearn.ensemble import RandomForestClassifier\n",
    "\n",
    "# My implementations\n",
    "from decision_tree import DecisionTree\n",
    "from random_forest import RandomForest\n",
    "from sklearn.model_selection import train_test_split, KFold\n",
    "from itertools import product\n",
    "from sklearn import metrics\n",
    "from typing import Any"
   ]
  },
  {
   "cell_type": "markdown",
   "metadata": {},
   "source": [
    "## Dataset\n",
    "\n",
    "Do data loading, exploration and preprocessing as you see fit.\n",
    "\n",
    "Here is some code to load the dataset to get you started."
   ]
  },
  {
   "cell_type": "code",
   "execution_count": 82,
   "metadata": {},
   "outputs": [
    {
     "name": "stdout",
     "output_type": "stream",
     "text": [
      "Feature columns names: ['citric_acid', 'residual_sugar', 'pH', 'sulphates', 'alcohol']\n",
      "Target column name: type\n",
      "X shape: (500, 5)\n",
      "y shape: (500,)\n"
     ]
    }
   ],
   "source": [
    "data = np.genfromtxt(\"datasets/wine_dataset_small.csv\", delimiter=\",\", dtype=float, names=True)\n",
    "\n",
    "feature_names = list(data.dtype.names[:-1])\n",
    "target_name = data.dtype.names[-1]\n",
    "\n",
    "X = np.array([data[feature] for feature in feature_names]).T\n",
    "y = data[target_name].astype(int)\n",
    "\n",
    "print(f\"Feature columns names: {feature_names}\")\n",
    "print(f\"Target column name: {target_name}\")\n",
    "print(f\"X shape: {X.shape}\")\n",
    "print(f\"y shape: {y.shape}\")"
   ]
  },
  {
   "cell_type": "code",
   "execution_count": 83,
   "metadata": {},
   "outputs": [],
   "source": [
    "seed = 0\n",
    "np.random.seed(seed)\n",
    "X_train, X_test, y_train, y_test = train_test_split(X, y, train_size=0.7, test_size=0.3, shuffle=True, random_state=seed)"
   ]
  },
  {
   "cell_type": "code",
   "execution_count": 104,
   "metadata": {},
   "outputs": [],
   "source": [
    "max_depths = [7, 8, 9, 10, 12]\n",
    "criterions = [\"entropy\", \"gini\"]\n",
    "n_estimators = [5, 6, 7, 8, 9, 10]\n",
    "max_features = [\"log2\", \"sqrt\", None]\n",
    "hyperparameter_list = list(product(max_depths, criterions, n_estimators, max_features))\n",
    "\n",
    "kf = KFold(n_splits=5, shuffle=True, random_state=seed)\n",
    "def tune_hyperparameters(hyperparameter_list: list[Any], classifier: type) -> tuple[int, str, int, str | None]:\n",
    "    mx_score = 0\n",
    "    counter = 0\n",
    "    N = len(hyperparameter_list)\n",
    "    for max_depth, criterion, n_estimator, max_feature in hyperparameter_list:\n",
    "        if counter % 5 == 0:\n",
    "            print(f\"{round(counter/N*100, 1)}%\")\n",
    "        counter += 1\n",
    "        val_scores = []\n",
    "        forest = classifier(n_estimators=n_estimator, max_depth=max_depth, criterion=criterion, max_features=max_feature, random_state=seed)\n",
    "        for train_index, val_index in kf.split(X_train):\n",
    "            X_train_fold, X_val_fold = X_train[train_index], X_train[val_index]\n",
    "            y_train_fold, y_val_fold = y_train[train_index], y_train[val_index]\n",
    "            forest.fit(X_train_fold, y_train_fold)\n",
    "            val_score = metrics.accuracy_score(y_val_fold, forest.predict(X_val_fold))\n",
    "            val_scores.append(val_score)\n",
    "        cv_score = np.mean(val_scores)\n",
    "        if cv_score > mx_score:\n",
    "            mx_score = cv_score\n",
    "            best_max_depth = max_depth\n",
    "            best_criterion = criterion\n",
    "            best_n_estimator = n_estimator\n",
    "            best_max_feature = max_feature\n",
    "        # print(cv_score)\n",
    "    return best_max_depth, best_criterion, best_n_estimator, best_max_feature\n"
   ]
  },
  {
   "cell_type": "code",
   "execution_count": 73,
   "metadata": {},
   "outputs": [
    {
     "name": "stdout",
     "output_type": "stream",
     "text": [
      "0.0%\n",
      "2.3%\n",
      "4.6%\n",
      "6.9%\n",
      "9.3%\n",
      "11.6%\n",
      "13.9%\n",
      "16.2%\n",
      "18.5%\n",
      "20.8%\n",
      "23.1%\n",
      "25.5%\n",
      "27.8%\n",
      "30.1%\n",
      "32.4%\n",
      "34.7%\n",
      "37.0%\n",
      "39.4%\n",
      "41.7%\n",
      "44.0%\n",
      "46.3%\n",
      "48.6%\n",
      "50.9%\n",
      "53.2%\n",
      "55.6%\n",
      "57.9%\n",
      "60.2%\n",
      "62.5%\n",
      "64.8%\n",
      "67.1%\n",
      "69.4%\n",
      "71.8%\n",
      "74.1%\n",
      "76.4%\n",
      "78.7%\n",
      "81.0%\n",
      "83.3%\n",
      "85.6%\n",
      "88.0%\n",
      "90.3%\n",
      "92.6%\n",
      "94.9%\n",
      "97.2%\n",
      "99.5%\n",
      "10 entropy 50 log2\n",
      "Training accuracy: 0.9971428571428571\n",
      "Validation accuracy: 0.8466666666666667\n"
     ]
    }
   ],
   "source": [
    "best_max_depth, best_criterion, best_n_estimator, best_max_feature = tune_hyperparameters(hyperparameter_list, RandomForest)\n",
    "print(best_max_depth, best_criterion, best_n_estimator, best_max_feature)\n",
    "forest = RandomForest(n_estimators=best_n_estimator, max_depth=best_max_depth, criterion=best_criterion, max_features=best_max_feature, random_state=seed)\n",
    "forest.fit(X_train, y_train)\n",
    "print(f\"Training accuracy: {metrics.accuracy_score(y_train, forest.predict(X_train))}\")\n",
    "print(f\"Validation accuracy: {metrics.accuracy_score(y_test, forest.predict(X_test))}\")"
   ]
  },
  {
   "cell_type": "code",
   "execution_count": 74,
   "metadata": {},
   "outputs": [
    {
     "name": "stdout",
     "output_type": "stream",
     "text": [
      "0.0%\n",
      "2.3%\n",
      "4.6%\n",
      "6.9%\n",
      "9.3%\n",
      "11.6%\n",
      "13.9%\n",
      "16.2%\n",
      "18.5%\n",
      "20.8%\n",
      "23.1%\n",
      "25.5%\n",
      "27.8%\n",
      "30.1%\n",
      "32.4%\n",
      "34.7%\n",
      "37.0%\n",
      "39.4%\n",
      "41.7%\n",
      "44.0%\n",
      "46.3%\n",
      "48.6%\n",
      "50.9%\n",
      "53.2%\n",
      "55.6%\n",
      "57.9%\n",
      "60.2%\n",
      "62.5%\n",
      "64.8%\n",
      "67.1%\n",
      "69.4%\n",
      "71.8%\n",
      "74.1%\n",
      "76.4%\n",
      "78.7%\n",
      "81.0%\n",
      "83.3%\n",
      "85.6%\n",
      "88.0%\n",
      "90.3%\n",
      "92.6%\n",
      "94.9%\n",
      "97.2%\n",
      "99.5%\n",
      "6 entropy 20 log2\n",
      "Training accuracy: 0.9514285714285714\n",
      "Validation accuracy: 0.86\n"
     ]
    }
   ],
   "source": [
    "best_max_depth, best_criterion, best_n_estimator, best_max_feature = tune_hyperparameters(hyperparameter_list, RandomForestClassifier)\n",
    "print(best_max_depth, best_criterion, best_n_estimator, best_max_feature)\n",
    "forest = RandomForestClassifier(n_estimators=best_n_estimator, max_depth=best_max_depth, criterion=best_criterion, max_features=best_max_feature, random_state=seed)\n",
    "forest.fit(X_train, y_train)\n",
    "print(f\"Training accuracy: {metrics.accuracy_score(y_train, forest.predict(X_train))}\")\n",
    "print(f\"Validation accuracy: {metrics.accuracy_score(y_test, forest.predict(X_test))}\")"
   ]
  },
  {
   "cell_type": "markdown",
   "metadata": {},
   "source": [
    "## Coffee dataset"
   ]
  },
  {
   "cell_type": "code",
   "execution_count": 75,
   "metadata": {},
   "outputs": [
    {
     "name": "stdout",
     "output_type": "stream",
     "text": [
      "Feature columns names: ['Aroma', 'Flavor', 'Aftertaste', 'Acidity', 'Body', 'Balance', 'Uniformity', 'Sweetness']\n",
      "Target column name: CountryofOrigin\n",
      "X shape: (419, 8)\n",
      "y shape: (419,)\n"
     ]
    }
   ],
   "source": [
    "data = np.genfromtxt(\"datasets/coffee_data.csv\", delimiter=\",\", dtype=float, names=True)\n",
    "\n",
    "feature_names = list(data.dtype.names[:-1])\n",
    "target_name = data.dtype.names[-1]\n",
    "\n",
    "X = np.array([data[feature] for feature in feature_names]).T\n",
    "y = data[target_name].astype(int)\n",
    "\n",
    "print(f\"Feature columns names: {feature_names}\")\n",
    "print(f\"Target column name: {target_name}\")\n",
    "print(f\"X shape: {X.shape}\")\n",
    "print(f\"y shape: {y.shape}\")\n",
    "\n",
    "X_train, X_test, y_train, y_test = train_test_split(X, y, train_size=0.7, test_size=0.3, shuffle=True, random_state=seed)"
   ]
  },
  {
   "cell_type": "code",
   "execution_count": 105,
   "metadata": {},
   "outputs": [
    {
     "name": "stdout",
     "output_type": "stream",
     "text": [
      "0.0%\n",
      "2.8%\n",
      "5.6%\n",
      "8.3%\n",
      "11.1%\n",
      "13.9%\n"
     ]
    },
    {
     "ename": "KeyboardInterrupt",
     "evalue": "",
     "output_type": "error",
     "traceback": [
      "\u001b[0;31m---------------------------------------------------------------------------\u001b[0m",
      "\u001b[0;31mKeyboardInterrupt\u001b[0m                         Traceback (most recent call last)",
      "Cell \u001b[0;32mIn[105], line 1\u001b[0m\n\u001b[0;32m----> 1\u001b[0m best_max_depth, best_criterion, best_n_estimator, best_max_feature \u001b[38;5;241m=\u001b[39m \u001b[43mtune_hyperparameters\u001b[49m\u001b[43m(\u001b[49m\u001b[43mhyperparameter_list\u001b[49m\u001b[43m,\u001b[49m\u001b[43m \u001b[49m\u001b[43mRandomForest\u001b[49m\u001b[43m)\u001b[49m\n\u001b[1;32m      2\u001b[0m \u001b[38;5;28mprint\u001b[39m(best_max_depth, best_criterion, best_n_estimator, best_max_feature)\n\u001b[1;32m      3\u001b[0m forest \u001b[38;5;241m=\u001b[39m RandomForest(n_estimators\u001b[38;5;241m=\u001b[39mbest_n_estimator, max_depth\u001b[38;5;241m=\u001b[39mbest_max_depth, criterion\u001b[38;5;241m=\u001b[39mbest_criterion, max_features\u001b[38;5;241m=\u001b[39mbest_max_feature, random_state\u001b[38;5;241m=\u001b[39mseed)\n",
      "Cell \u001b[0;32mIn[104], line 21\u001b[0m, in \u001b[0;36mtune_hyperparameters\u001b[0;34m(hyperparameter_list, classifier)\u001b[0m\n\u001b[1;32m     19\u001b[0m X_train_fold, X_val_fold \u001b[38;5;241m=\u001b[39m X_train[train_index], X_train[val_index]\n\u001b[1;32m     20\u001b[0m y_train_fold, y_val_fold \u001b[38;5;241m=\u001b[39m y_train[train_index], y_train[val_index]\n\u001b[0;32m---> 21\u001b[0m \u001b[43mforest\u001b[49m\u001b[38;5;241;43m.\u001b[39;49m\u001b[43mfit\u001b[49m\u001b[43m(\u001b[49m\u001b[43mX_train_fold\u001b[49m\u001b[43m,\u001b[49m\u001b[43m \u001b[49m\u001b[43my_train_fold\u001b[49m\u001b[43m)\u001b[49m\n\u001b[1;32m     22\u001b[0m val_score \u001b[38;5;241m=\u001b[39m metrics\u001b[38;5;241m.\u001b[39maccuracy_score(y_val_fold, forest\u001b[38;5;241m.\u001b[39mpredict(X_val_fold))\n\u001b[1;32m     23\u001b[0m val_scores\u001b[38;5;241m.\u001b[39mappend(val_score)\n",
      "File \u001b[0;32m~/Documents/Skole/INF264/proj1/INF264-project1/random_forest.py:24\u001b[0m, in \u001b[0;36mRandomForest.fit\u001b[0;34m(self, X, y)\u001b[0m\n\u001b[1;32m     22\u001b[0m \u001b[38;5;28;01mdef\u001b[39;00m \u001b[38;5;21mfit\u001b[39m(\u001b[38;5;28mself\u001b[39m, X: np\u001b[38;5;241m.\u001b[39mndarray, y: np\u001b[38;5;241m.\u001b[39mndarray):\n\u001b[1;32m     23\u001b[0m     \u001b[38;5;28mself\u001b[39m\u001b[38;5;241m.\u001b[39mestimators \u001b[38;5;241m=\u001b[39m [\n\u001b[0;32m---> 24\u001b[0m         \u001b[38;5;28;43mself\u001b[39;49m\u001b[38;5;241;43m.\u001b[39;49m\u001b[43mmake_random_estimator\u001b[49m\u001b[43m(\u001b[49m\u001b[43mX\u001b[49m\u001b[43m,\u001b[49m\u001b[43m \u001b[49m\u001b[43my\u001b[49m\u001b[43m)\u001b[49m \u001b[38;5;28;01mfor\u001b[39;00m _ \u001b[38;5;129;01min\u001b[39;00m \u001b[38;5;28mrange\u001b[39m(\u001b[38;5;28mself\u001b[39m\u001b[38;5;241m.\u001b[39mn_estimators)\n\u001b[1;32m     25\u001b[0m     ]\n",
      "File \u001b[0;32m~/Documents/Skole/INF264/proj1/INF264-project1/random_forest.py:36\u001b[0m, in \u001b[0;36mRandomForest.make_random_estimator\u001b[0;34m(self, X, y)\u001b[0m\n\u001b[1;32m     34\u001b[0m mask \u001b[38;5;241m=\u001b[39m \u001b[38;5;28mself\u001b[39m\u001b[38;5;241m.\u001b[39mrng\u001b[38;5;241m.\u001b[39mchoice(\u001b[38;5;28mrange\u001b[39m(\u001b[38;5;28mlen\u001b[39m(X)), size\u001b[38;5;241m=\u001b[39m\u001b[38;5;28mlen\u001b[39m(X), replace\u001b[38;5;241m=\u001b[39m\u001b[38;5;28;01mTrue\u001b[39;00m)\n\u001b[1;32m     35\u001b[0m sub_X, sub_y \u001b[38;5;241m=\u001b[39m X[mask], y[mask]\n\u001b[0;32m---> 36\u001b[0m \u001b[43mestimator\u001b[49m\u001b[38;5;241;43m.\u001b[39;49m\u001b[43mfit\u001b[49m\u001b[43m(\u001b[49m\u001b[43msub_X\u001b[49m\u001b[43m,\u001b[49m\u001b[43m \u001b[49m\u001b[43msub_y\u001b[49m\u001b[43m)\u001b[49m\n\u001b[1;32m     37\u001b[0m \u001b[38;5;28;01mreturn\u001b[39;00m estimator\n",
      "File \u001b[0;32m~/Documents/Skole/INF264/proj1/INF264-project1/decision_tree.py:146\u001b[0m, in \u001b[0;36mDecisionTree.fit\u001b[0;34m(self, X, y)\u001b[0m\n\u001b[1;32m    143\u001b[0m \u001b[38;5;28;01mif\u001b[39;00m \u001b[38;5;28mlen\u001b[39m(y) \u001b[38;5;241m!=\u001b[39m \u001b[38;5;28mlen\u001b[39m(X):\n\u001b[1;32m    144\u001b[0m     \u001b[38;5;28;01mraise\u001b[39;00m \u001b[38;5;167;01mValueError\u001b[39;00m(\u001b[38;5;124m\"\u001b[39m\u001b[38;5;124mValues and targets must be same length\u001b[39m\u001b[38;5;124m\"\u001b[39m)\n\u001b[0;32m--> 146\u001b[0m \u001b[38;5;28mself\u001b[39m\u001b[38;5;241m.\u001b[39mroot \u001b[38;5;241m=\u001b[39m \u001b[38;5;28;43mself\u001b[39;49m\u001b[38;5;241;43m.\u001b[39;49m\u001b[43m_build_tree\u001b[49m\u001b[43m(\u001b[49m\u001b[43mX\u001b[49m\u001b[43m,\u001b[49m\u001b[43m \u001b[49m\u001b[43my\u001b[49m\u001b[43m,\u001b[49m\u001b[43m \u001b[49m\u001b[38;5;241;43m0\u001b[39;49m\u001b[43m)\u001b[49m\n",
      "File \u001b[0;32m~/Documents/Skole/INF264/proj1/INF264-project1/decision_tree.py:194\u001b[0m, in \u001b[0;36mDecisionTree._build_tree\u001b[0;34m(self, X, y, depth)\u001b[0m\n\u001b[1;32m    187\u001b[0m X_left, X_right \u001b[38;5;241m=\u001b[39m split(X, msk)\n\u001b[1;32m    188\u001b[0m y_left, y_right \u001b[38;5;241m=\u001b[39m split(y, msk)\n\u001b[1;32m    190\u001b[0m \u001b[38;5;28;01mreturn\u001b[39;00m Node(\n\u001b[1;32m    191\u001b[0m     feature\u001b[38;5;241m=\u001b[39mbest_feature,\n\u001b[1;32m    192\u001b[0m     threshold\u001b[38;5;241m=\u001b[39mthreshold,\n\u001b[1;32m    193\u001b[0m     left\u001b[38;5;241m=\u001b[39m\u001b[38;5;28mself\u001b[39m\u001b[38;5;241m.\u001b[39m_build_tree(X_left, y_left, depth \u001b[38;5;241m+\u001b[39m \u001b[38;5;241m1\u001b[39m),\n\u001b[0;32m--> 194\u001b[0m     right\u001b[38;5;241m=\u001b[39m\u001b[38;5;28;43mself\u001b[39;49m\u001b[38;5;241;43m.\u001b[39;49m\u001b[43m_build_tree\u001b[49m\u001b[43m(\u001b[49m\u001b[43mX_right\u001b[49m\u001b[43m,\u001b[49m\u001b[43m \u001b[49m\u001b[43my_right\u001b[49m\u001b[43m,\u001b[49m\u001b[43m \u001b[49m\u001b[43mdepth\u001b[49m\u001b[43m \u001b[49m\u001b[38;5;241;43m+\u001b[39;49m\u001b[43m \u001b[49m\u001b[38;5;241;43m1\u001b[39;49m\u001b[43m)\u001b[49m,\n\u001b[1;32m    195\u001b[0m )\n",
      "File \u001b[0;32m~/Documents/Skole/INF264/proj1/INF264-project1/decision_tree.py:194\u001b[0m, in \u001b[0;36mDecisionTree._build_tree\u001b[0;34m(self, X, y, depth)\u001b[0m\n\u001b[1;32m    187\u001b[0m X_left, X_right \u001b[38;5;241m=\u001b[39m split(X, msk)\n\u001b[1;32m    188\u001b[0m y_left, y_right \u001b[38;5;241m=\u001b[39m split(y, msk)\n\u001b[1;32m    190\u001b[0m \u001b[38;5;28;01mreturn\u001b[39;00m Node(\n\u001b[1;32m    191\u001b[0m     feature\u001b[38;5;241m=\u001b[39mbest_feature,\n\u001b[1;32m    192\u001b[0m     threshold\u001b[38;5;241m=\u001b[39mthreshold,\n\u001b[1;32m    193\u001b[0m     left\u001b[38;5;241m=\u001b[39m\u001b[38;5;28mself\u001b[39m\u001b[38;5;241m.\u001b[39m_build_tree(X_left, y_left, depth \u001b[38;5;241m+\u001b[39m \u001b[38;5;241m1\u001b[39m),\n\u001b[0;32m--> 194\u001b[0m     right\u001b[38;5;241m=\u001b[39m\u001b[38;5;28;43mself\u001b[39;49m\u001b[38;5;241;43m.\u001b[39;49m\u001b[43m_build_tree\u001b[49m\u001b[43m(\u001b[49m\u001b[43mX_right\u001b[49m\u001b[43m,\u001b[49m\u001b[43m \u001b[49m\u001b[43my_right\u001b[49m\u001b[43m,\u001b[49m\u001b[43m \u001b[49m\u001b[43mdepth\u001b[49m\u001b[43m \u001b[49m\u001b[38;5;241;43m+\u001b[39;49m\u001b[43m \u001b[49m\u001b[38;5;241;43m1\u001b[39;49m\u001b[43m)\u001b[49m,\n\u001b[1;32m    195\u001b[0m )\n",
      "File \u001b[0;32m~/Documents/Skole/INF264/proj1/INF264-project1/decision_tree.py:193\u001b[0m, in \u001b[0;36mDecisionTree._build_tree\u001b[0;34m(self, X, y, depth)\u001b[0m\n\u001b[1;32m    187\u001b[0m X_left, X_right \u001b[38;5;241m=\u001b[39m split(X, msk)\n\u001b[1;32m    188\u001b[0m y_left, y_right \u001b[38;5;241m=\u001b[39m split(y, msk)\n\u001b[1;32m    190\u001b[0m \u001b[38;5;28;01mreturn\u001b[39;00m Node(\n\u001b[1;32m    191\u001b[0m     feature\u001b[38;5;241m=\u001b[39mbest_feature,\n\u001b[1;32m    192\u001b[0m     threshold\u001b[38;5;241m=\u001b[39mthreshold,\n\u001b[0;32m--> 193\u001b[0m     left\u001b[38;5;241m=\u001b[39m\u001b[38;5;28;43mself\u001b[39;49m\u001b[38;5;241;43m.\u001b[39;49m\u001b[43m_build_tree\u001b[49m\u001b[43m(\u001b[49m\u001b[43mX_left\u001b[49m\u001b[43m,\u001b[49m\u001b[43m \u001b[49m\u001b[43my_left\u001b[49m\u001b[43m,\u001b[49m\u001b[43m \u001b[49m\u001b[43mdepth\u001b[49m\u001b[43m \u001b[49m\u001b[38;5;241;43m+\u001b[39;49m\u001b[43m \u001b[49m\u001b[38;5;241;43m1\u001b[39;49m\u001b[43m)\u001b[49m,\n\u001b[1;32m    194\u001b[0m     right\u001b[38;5;241m=\u001b[39m\u001b[38;5;28mself\u001b[39m\u001b[38;5;241m.\u001b[39m_build_tree(X_right, y_right, depth \u001b[38;5;241m+\u001b[39m \u001b[38;5;241m1\u001b[39m),\n\u001b[1;32m    195\u001b[0m )\n",
      "File \u001b[0;32m~/Documents/Skole/INF264/proj1/INF264-project1/decision_tree.py:194\u001b[0m, in \u001b[0;36mDecisionTree._build_tree\u001b[0;34m(self, X, y, depth)\u001b[0m\n\u001b[1;32m    187\u001b[0m X_left, X_right \u001b[38;5;241m=\u001b[39m split(X, msk)\n\u001b[1;32m    188\u001b[0m y_left, y_right \u001b[38;5;241m=\u001b[39m split(y, msk)\n\u001b[1;32m    190\u001b[0m \u001b[38;5;28;01mreturn\u001b[39;00m Node(\n\u001b[1;32m    191\u001b[0m     feature\u001b[38;5;241m=\u001b[39mbest_feature,\n\u001b[1;32m    192\u001b[0m     threshold\u001b[38;5;241m=\u001b[39mthreshold,\n\u001b[1;32m    193\u001b[0m     left\u001b[38;5;241m=\u001b[39m\u001b[38;5;28mself\u001b[39m\u001b[38;5;241m.\u001b[39m_build_tree(X_left, y_left, depth \u001b[38;5;241m+\u001b[39m \u001b[38;5;241m1\u001b[39m),\n\u001b[0;32m--> 194\u001b[0m     right\u001b[38;5;241m=\u001b[39m\u001b[38;5;28;43mself\u001b[39;49m\u001b[38;5;241;43m.\u001b[39;49m\u001b[43m_build_tree\u001b[49m\u001b[43m(\u001b[49m\u001b[43mX_right\u001b[49m\u001b[43m,\u001b[49m\u001b[43m \u001b[49m\u001b[43my_right\u001b[49m\u001b[43m,\u001b[49m\u001b[43m \u001b[49m\u001b[43mdepth\u001b[49m\u001b[43m \u001b[49m\u001b[38;5;241;43m+\u001b[39;49m\u001b[43m \u001b[49m\u001b[38;5;241;43m1\u001b[39;49m\u001b[43m)\u001b[49m,\n\u001b[1;32m    195\u001b[0m )\n",
      "File \u001b[0;32m~/Documents/Skole/INF264/proj1/INF264-project1/decision_tree.py:194\u001b[0m, in \u001b[0;36mDecisionTree._build_tree\u001b[0;34m(self, X, y, depth)\u001b[0m\n\u001b[1;32m    187\u001b[0m X_left, X_right \u001b[38;5;241m=\u001b[39m split(X, msk)\n\u001b[1;32m    188\u001b[0m y_left, y_right \u001b[38;5;241m=\u001b[39m split(y, msk)\n\u001b[1;32m    190\u001b[0m \u001b[38;5;28;01mreturn\u001b[39;00m Node(\n\u001b[1;32m    191\u001b[0m     feature\u001b[38;5;241m=\u001b[39mbest_feature,\n\u001b[1;32m    192\u001b[0m     threshold\u001b[38;5;241m=\u001b[39mthreshold,\n\u001b[1;32m    193\u001b[0m     left\u001b[38;5;241m=\u001b[39m\u001b[38;5;28mself\u001b[39m\u001b[38;5;241m.\u001b[39m_build_tree(X_left, y_left, depth \u001b[38;5;241m+\u001b[39m \u001b[38;5;241m1\u001b[39m),\n\u001b[0;32m--> 194\u001b[0m     right\u001b[38;5;241m=\u001b[39m\u001b[38;5;28;43mself\u001b[39;49m\u001b[38;5;241;43m.\u001b[39;49m\u001b[43m_build_tree\u001b[49m\u001b[43m(\u001b[49m\u001b[43mX_right\u001b[49m\u001b[43m,\u001b[49m\u001b[43m \u001b[49m\u001b[43my_right\u001b[49m\u001b[43m,\u001b[49m\u001b[43m \u001b[49m\u001b[43mdepth\u001b[49m\u001b[43m \u001b[49m\u001b[38;5;241;43m+\u001b[39;49m\u001b[43m \u001b[49m\u001b[38;5;241;43m1\u001b[39;49m\u001b[43m)\u001b[49m,\n\u001b[1;32m    195\u001b[0m )\n",
      "File \u001b[0;32m~/Documents/Skole/INF264/proj1/INF264-project1/decision_tree.py:193\u001b[0m, in \u001b[0;36mDecisionTree._build_tree\u001b[0;34m(self, X, y, depth)\u001b[0m\n\u001b[1;32m    187\u001b[0m X_left, X_right \u001b[38;5;241m=\u001b[39m split(X, msk)\n\u001b[1;32m    188\u001b[0m y_left, y_right \u001b[38;5;241m=\u001b[39m split(y, msk)\n\u001b[1;32m    190\u001b[0m \u001b[38;5;28;01mreturn\u001b[39;00m Node(\n\u001b[1;32m    191\u001b[0m     feature\u001b[38;5;241m=\u001b[39mbest_feature,\n\u001b[1;32m    192\u001b[0m     threshold\u001b[38;5;241m=\u001b[39mthreshold,\n\u001b[0;32m--> 193\u001b[0m     left\u001b[38;5;241m=\u001b[39m\u001b[38;5;28;43mself\u001b[39;49m\u001b[38;5;241;43m.\u001b[39;49m\u001b[43m_build_tree\u001b[49m\u001b[43m(\u001b[49m\u001b[43mX_left\u001b[49m\u001b[43m,\u001b[49m\u001b[43m \u001b[49m\u001b[43my_left\u001b[49m\u001b[43m,\u001b[49m\u001b[43m \u001b[49m\u001b[43mdepth\u001b[49m\u001b[43m \u001b[49m\u001b[38;5;241;43m+\u001b[39;49m\u001b[43m \u001b[49m\u001b[38;5;241;43m1\u001b[39;49m\u001b[43m)\u001b[49m,\n\u001b[1;32m    194\u001b[0m     right\u001b[38;5;241m=\u001b[39m\u001b[38;5;28mself\u001b[39m\u001b[38;5;241m.\u001b[39m_build_tree(X_right, y_right, depth \u001b[38;5;241m+\u001b[39m \u001b[38;5;241m1\u001b[39m),\n\u001b[1;32m    195\u001b[0m )\n",
      "File \u001b[0;32m~/Documents/Skole/INF264/proj1/INF264-project1/decision_tree.py:165\u001b[0m, in \u001b[0;36mDecisionTree._build_tree\u001b[0;34m(self, X, y, depth)\u001b[0m\n\u001b[1;32m    162\u001b[0m threshold \u001b[38;5;241m=\u001b[39m \u001b[38;5;241m0.0\u001b[39m\n\u001b[1;32m    164\u001b[0m num_features \u001b[38;5;241m=\u001b[39m \u001b[38;5;28mint\u001b[39m(\u001b[38;5;28mself\u001b[39m\u001b[38;5;241m.\u001b[39mmax_features(\u001b[38;5;28mlen\u001b[39m(X[\u001b[38;5;241m0\u001b[39m])))\n\u001b[0;32m--> 165\u001b[0m feature_mask \u001b[38;5;241m=\u001b[39m \u001b[38;5;28;43mself\u001b[39;49m\u001b[38;5;241;43m.\u001b[39;49m\u001b[43mrng\u001b[49m\u001b[38;5;241;43m.\u001b[39;49m\u001b[43mchoice\u001b[49m\u001b[43m(\u001b[49m\u001b[38;5;28;43mrange\u001b[39;49m\u001b[43m(\u001b[49m\u001b[38;5;28;43mlen\u001b[39;49m\u001b[43m(\u001b[49m\u001b[43mX\u001b[49m\u001b[43m[\u001b[49m\u001b[38;5;241;43m0\u001b[39;49m\u001b[43m]\u001b[49m\u001b[43m)\u001b[49m\u001b[43m)\u001b[49m\u001b[43m,\u001b[49m\u001b[43m \u001b[49m\u001b[43mnum_features\u001b[49m\u001b[43m,\u001b[49m\u001b[43m \u001b[49m\u001b[43mreplace\u001b[49m\u001b[38;5;241;43m=\u001b[39;49m\u001b[38;5;28;43;01mFalse\u001b[39;49;00m\u001b[43m)\u001b[49m\n\u001b[1;32m    167\u001b[0m \u001b[38;5;28;01mfor\u001b[39;00m features, i \u001b[38;5;129;01min\u001b[39;00m \u001b[38;5;28mzip\u001b[39m(X\u001b[38;5;241m.\u001b[39mT[feature_mask], feature_mask):\n\u001b[1;32m    168\u001b[0m     mean \u001b[38;5;241m=\u001b[39m np\u001b[38;5;241m.\u001b[39mmedian(features)\n",
      "File \u001b[0;32mnumpy/random/_generator.pyx:900\u001b[0m, in \u001b[0;36mnumpy.random._generator.Generator.choice\u001b[0;34m()\u001b[0m\n",
      "File \u001b[0;32m/opt/anaconda3/envs/INF264/lib/python3.12/site-packages/numpy/_core/fromnumeric.py:3493\u001b[0m, in \u001b[0;36mprod\u001b[0;34m(a, axis, dtype, out, keepdims, initial, where)\u001b[0m\n\u001b[1;32m   3369\u001b[0m \u001b[38;5;129m@array_function_dispatch\u001b[39m(_prod_dispatcher)\n\u001b[1;32m   3370\u001b[0m \u001b[38;5;28;01mdef\u001b[39;00m \u001b[38;5;21mprod\u001b[39m(a, axis\u001b[38;5;241m=\u001b[39m\u001b[38;5;28;01mNone\u001b[39;00m, dtype\u001b[38;5;241m=\u001b[39m\u001b[38;5;28;01mNone\u001b[39;00m, out\u001b[38;5;241m=\u001b[39m\u001b[38;5;28;01mNone\u001b[39;00m, keepdims\u001b[38;5;241m=\u001b[39mnp\u001b[38;5;241m.\u001b[39m_NoValue,\n\u001b[1;32m   3371\u001b[0m          initial\u001b[38;5;241m=\u001b[39mnp\u001b[38;5;241m.\u001b[39m_NoValue, where\u001b[38;5;241m=\u001b[39mnp\u001b[38;5;241m.\u001b[39m_NoValue):\n\u001b[1;32m   3372\u001b[0m \u001b[38;5;250m    \u001b[39m\u001b[38;5;124;03m\"\"\"\u001b[39;00m\n\u001b[1;32m   3373\u001b[0m \u001b[38;5;124;03m    Return the product of array elements over a given axis.\u001b[39;00m\n\u001b[1;32m   3374\u001b[0m \n\u001b[0;32m   (...)\u001b[0m\n\u001b[1;32m   3491\u001b[0m \u001b[38;5;124;03m    10\u001b[39;00m\n\u001b[1;32m   3492\u001b[0m \u001b[38;5;124;03m    \"\"\"\u001b[39;00m\n\u001b[0;32m-> 3493\u001b[0m     \u001b[38;5;28;01mreturn\u001b[39;00m \u001b[43m_wrapreduction\u001b[49m\u001b[43m(\u001b[49m\u001b[43ma\u001b[49m\u001b[43m,\u001b[49m\u001b[43m \u001b[49m\u001b[43mnp\u001b[49m\u001b[38;5;241;43m.\u001b[39;49m\u001b[43mmultiply\u001b[49m\u001b[43m,\u001b[49m\u001b[43m \u001b[49m\u001b[38;5;124;43m'\u001b[39;49m\u001b[38;5;124;43mprod\u001b[39;49m\u001b[38;5;124;43m'\u001b[39;49m\u001b[43m,\u001b[49m\u001b[43m \u001b[49m\u001b[43maxis\u001b[49m\u001b[43m,\u001b[49m\u001b[43m \u001b[49m\u001b[43mdtype\u001b[49m\u001b[43m,\u001b[49m\u001b[43m \u001b[49m\u001b[43mout\u001b[49m\u001b[43m,\u001b[49m\n\u001b[1;32m   3494\u001b[0m \u001b[43m                          \u001b[49m\u001b[43mkeepdims\u001b[49m\u001b[38;5;241;43m=\u001b[39;49m\u001b[43mkeepdims\u001b[49m\u001b[43m,\u001b[49m\u001b[43m \u001b[49m\u001b[43minitial\u001b[49m\u001b[38;5;241;43m=\u001b[39;49m\u001b[43minitial\u001b[49m\u001b[43m,\u001b[49m\u001b[43m \u001b[49m\u001b[43mwhere\u001b[49m\u001b[38;5;241;43m=\u001b[39;49m\u001b[43mwhere\u001b[49m\u001b[43m)\u001b[49m\n",
      "File \u001b[0;32m/opt/anaconda3/envs/INF264/lib/python3.12/site-packages/numpy/_core/fromnumeric.py:86\u001b[0m, in \u001b[0;36m_wrapreduction\u001b[0;34m(obj, ufunc, method, axis, dtype, out, **kwargs)\u001b[0m\n\u001b[1;32m     83\u001b[0m         \u001b[38;5;28;01melse\u001b[39;00m:\n\u001b[1;32m     84\u001b[0m             \u001b[38;5;28;01mreturn\u001b[39;00m reduction(axis\u001b[38;5;241m=\u001b[39maxis, out\u001b[38;5;241m=\u001b[39mout, \u001b[38;5;241m*\u001b[39m\u001b[38;5;241m*\u001b[39mpasskwargs)\n\u001b[0;32m---> 86\u001b[0m \u001b[38;5;28;01mreturn\u001b[39;00m \u001b[43mufunc\u001b[49m\u001b[38;5;241;43m.\u001b[39;49m\u001b[43mreduce\u001b[49m\u001b[43m(\u001b[49m\u001b[43mobj\u001b[49m\u001b[43m,\u001b[49m\u001b[43m \u001b[49m\u001b[43maxis\u001b[49m\u001b[43m,\u001b[49m\u001b[43m \u001b[49m\u001b[43mdtype\u001b[49m\u001b[43m,\u001b[49m\u001b[43m \u001b[49m\u001b[43mout\u001b[49m\u001b[43m,\u001b[49m\u001b[43m \u001b[49m\u001b[38;5;241;43m*\u001b[39;49m\u001b[38;5;241;43m*\u001b[39;49m\u001b[43mpasskwargs\u001b[49m\u001b[43m)\u001b[49m\n",
      "\u001b[0;31mKeyboardInterrupt\u001b[0m: "
     ]
    }
   ],
   "source": [
    "best_max_depth, best_criterion, best_n_estimator, best_max_feature = tune_hyperparameters(hyperparameter_list, RandomForest)\n",
    "print(best_max_depth, best_criterion, best_n_estimator, best_max_feature)\n",
    "forest = RandomForest(n_estimators=best_n_estimator, max_depth=best_max_depth, criterion=best_criterion, max_features=best_max_feature, random_state=seed)\n",
    "forest.fit(X_train, y_train)\n",
    "print(f\"Training accuracy: {metrics.accuracy_score(y_train, forest.predict(X_train))}\")\n",
    "print(f\"Validation accuracy: {metrics.accuracy_score(y_test, forest.predict(X_test))}\")\n"
   ]
  },
  {
   "cell_type": "code",
   "execution_count": 102,
   "metadata": {},
   "outputs": [
    {
     "name": "stdout",
     "output_type": "stream",
     "text": [
      "0.0%\n",
      "2.8%\n",
      "5.6%\n",
      "8.3%\n",
      "11.1%\n",
      "13.9%\n",
      "16.7%\n",
      "19.4%\n",
      "22.2%\n",
      "25.0%\n",
      "27.8%\n",
      "30.6%\n",
      "33.3%\n",
      "36.1%\n",
      "38.9%\n",
      "41.7%\n",
      "44.4%\n",
      "47.2%\n",
      "50.0%\n",
      "52.8%\n",
      "55.6%\n",
      "58.3%\n",
      "61.1%\n",
      "63.9%\n",
      "66.7%\n",
      "69.4%\n",
      "72.2%\n",
      "75.0%\n",
      "77.8%\n",
      "80.6%\n",
      "83.3%\n",
      "86.1%\n",
      "88.9%\n",
      "91.7%\n",
      "94.4%\n",
      "97.2%\n",
      "9 entropy 10 None\n",
      "Training accuracy: 0.9685714285714285\n",
      "Validation accuracy: 0.86\n"
     ]
    },
    {
     "data": {
      "text/plain": [
       "'\\n12 entropy 8 log2\\nTraining accuracy: 0.9857142857142858\\nValidation accuracy: 0.8533333333333334\\n'"
      ]
     },
     "execution_count": 102,
     "metadata": {},
     "output_type": "execute_result"
    }
   ],
   "source": [
    "best_max_depth, best_criterion, best_n_estimator, best_max_feature = tune_hyperparameters(hyperparameter_list, RandomForestClassifier)\n",
    "print(best_max_depth, best_criterion, best_n_estimator, best_max_feature)\n",
    "forest = RandomForestClassifier(n_estimators=best_n_estimator, max_depth=best_max_depth, criterion=best_criterion, max_features=best_max_feature, random_state=seed)\n",
    "forest.fit(X_train, y_train)\n",
    "print(f\"Training accuracy: {metrics.accuracy_score(y_train, forest.predict(X_train))}\")\n",
    "print(f\"Validation accuracy: {metrics.accuracy_score(y_test, forest.predict(X_test))}\")\n",
    "\n",
    "\"\"\"\n",
    "12 entropy 8 log2\n",
    "Training accuracy: 0.9857142857142858\n",
    "Validation accuracy: 0.8533333333333334\n",
    "\"\"\""
   ]
  }
 ],
 "metadata": {
  "kernelspec": {
   "display_name": "INF264",
   "language": "python",
   "name": "python3"
  },
  "language_info": {
   "codemirror_mode": {
    "name": "ipython",
    "version": 3
   },
   "file_extension": ".py",
   "mimetype": "text/x-python",
   "name": "python",
   "nbconvert_exporter": "python",
   "pygments_lexer": "ipython3",
   "version": "3.12.2"
  }
 },
 "nbformat": 4,
 "nbformat_minor": 2
}
