{
 "cells": [
  {
   "cell_type": "markdown",
   "metadata": {},
   "source": [
    "# Project 1 – Decision Trees and Random Forests"
   ]
  },
  {
   "cell_type": "code",
   "execution_count": 24,
   "metadata": {},
   "outputs": [
    {
     "name": "stdout",
     "output_type": "stream",
     "text": [
      "The autoreload extension is already loaded. To reload it, use:\n",
      "  %reload_ext autoreload\n"
     ]
    }
   ],
   "source": [
    "# Reload all modules without having to restart the kernel\n",
    "# Useful for development if you have edited any of the external code files.\n",
    "%load_ext autoreload\n",
    "%autoreload 2\n",
    "\n",
    "# Imports\n",
    "import numpy as np\n",
    "from sklearn.ensemble import RandomForestClassifier\n",
    "\n",
    "# My implementations\n",
    "from decision_tree import DecisionTree\n",
    "from random_forest import RandomForest\n",
    "from sklearn.model_selection import train_test_split, KFold, GridSearchCV\n",
    "from itertools import product\n",
    "from sklearn import metrics\n",
    "from typing import Any"
   ]
  },
  {
   "cell_type": "markdown",
   "metadata": {},
   "source": [
    "## Dataset\n",
    "\n",
    "Do data loading, exploration and preprocessing as you see fit.\n",
    "\n",
    "Here is some code to load the dataset to get you started."
   ]
  },
  {
   "cell_type": "code",
   "execution_count": 25,
   "metadata": {},
   "outputs": [
    {
     "name": "stdout",
     "output_type": "stream",
     "text": [
      "Feature columns names: ['citric_acid', 'residual_sugar', 'pH', 'sulphates', 'alcohol']\n",
      "Target column name: type\n",
      "X shape: (500, 5)\n",
      "y shape: (500,)\n",
      "[[ 0.13  1.6   3.34  0.59  9.2 ]\n",
      " [ 0.1   2.8   3.6   0.66 10.2 ]\n",
      " [ 0.32  1.9   3.2   0.55  9.5 ]\n",
      " ...\n",
      " [ 0.36  7.    3.04  0.32 11.  ]\n",
      " [ 0.42  2.1   3.11  0.78 12.4 ]\n",
      " [ 0.15  9.7   3.05  0.3   9.1 ]]\n"
     ]
    }
   ],
   "source": [
    "data = np.genfromtxt(\"datasets/wine_dataset_small.csv\", delimiter=\",\", dtype=float, names=True)\n",
    "\n",
    "feature_names = list(data.dtype.names[:-1])\n",
    "target_name = data.dtype.names[-1]\n",
    "\n",
    "X = np.array([data[feature] for feature in feature_names]).T\n",
    "y = data[target_name].astype(int)\n",
    "\n",
    "print(f\"Feature columns names: {feature_names}\")\n",
    "print(f\"Target column name: {target_name}\")\n",
    "print(f\"X shape: {X.shape}\")\n",
    "print(f\"y shape: {y.shape}\")\n",
    "print(X)"
   ]
  },
  {
   "cell_type": "code",
   "execution_count": 26,
   "metadata": {},
   "outputs": [],
   "source": [
    "seed = 4206969\n",
    "np.random.seed(seed)\n",
    "X_train, X_test, y_train, y_test = train_test_split(X, y, train_size=0.7, test_size=0.3, shuffle=True, random_state=seed)"
   ]
  },
  {
   "cell_type": "code",
   "execution_count": 27,
   "metadata": {},
   "outputs": [],
   "source": [
    "max_depths = [3, 4, 5, 6, 7, 8, 9, 10, 25]\n",
    "criterions = [\"entropy\", \"gini\"]\n",
    "n_estimators = [5, 10, 20, 50]\n",
    "max_features = [\"log2\", \"sqrt\", None]\n",
    "hyperparameter_list = list(product(max_depths, criterions, n_estimators, max_features))\n",
    "\n",
    "kf = KFold(n_splits=5, shuffle=True, random_state=seed)\n",
    "def tune_hyperparameters(hyperparameter_list: list[Any], classifier: type) -> tuple[int, str, int, str | None]:\n",
    "    min_mse = float(\"inf\")\n",
    "    counter = 0\n",
    "    N = len(hyperparameter_list)\n",
    "    for max_depth, criterion, n_estimator, max_feature in hyperparameter_list:\n",
    "        if counter % 5 == 0:\n",
    "            print(f\"{round(counter/N*100, 1)}%\")\n",
    "        counter += 1\n",
    "        val_scores = []\n",
    "        forest = classifier(n_estimators=n_estimator, max_depth=max_depth, criterion=criterion, max_features=max_feature)\n",
    "        for train_index, val_index in kf.split(X_train):\n",
    "            X_train_fold, X_val_fold = X_train[train_index], X_train[val_index]\n",
    "            y_train_fold, y_val_fold = y_train[train_index], y_train[val_index]\n",
    "            forest.fit(X_train_fold, y_train_fold)\n",
    "            val_score = metrics.mean_squared_error(y_val_fold, forest.predict(X_val_fold))\n",
    "            val_scores.append(val_score)\n",
    "        cv_score = np.mean(val_scores)\n",
    "        if cv_score < min_mse:\n",
    "            min_mse = cv_score\n",
    "            best_max_depth = max_depth\n",
    "            best_criterion = criterion\n",
    "            best_n_estimator = n_estimator\n",
    "            best_max_feature = max_feature\n",
    "            print(best_max_depth, best_criterion, best_n_estimator, best_max_feature)\n",
    "    return best_max_depth, best_criterion, best_n_estimator, best_max_feature\n"
   ]
  },
  {
   "cell_type": "code",
   "execution_count": 30,
   "metadata": {},
   "outputs": [
    {
     "name": "stdout",
     "output_type": "stream",
     "text": [
      "0.0%\n",
      "2.3%\n",
      "4.6%\n",
      "6.9%\n",
      "9.3%\n",
      "11.6%\n",
      "13.9%\n",
      "16.2%\n",
      "18.5%\n",
      "20.8%\n",
      "23.1%\n",
      "25.5%\n",
      "27.8%\n",
      "30.1%\n",
      "32.4%\n",
      "34.7%\n",
      "37.0%\n",
      "39.4%\n",
      "41.7%\n",
      "44.0%\n",
      "46.3%\n",
      "48.6%\n",
      "50.9%\n",
      "53.2%\n",
      "55.6%\n",
      "57.9%\n",
      "60.2%\n",
      "62.5%\n",
      "64.8%\n",
      "67.1%\n",
      "69.4%\n",
      "71.8%\n",
      "74.1%\n",
      "76.4%\n",
      "78.7%\n",
      "81.0%\n",
      "83.3%\n",
      "85.6%\n",
      "88.0%\n",
      "90.3%\n",
      "92.6%\n",
      "94.9%\n",
      "97.2%\n",
      "99.5%\n",
      "3 entropy 1 log2\n",
      "Training accuracy: 0.64\n",
      "Validation accuracy: 0.5666666666666667\n"
     ]
    }
   ],
   "source": [
    "best_max_depth, best_criterion, best_n_estimator, best_max_feature = tune_hyperparameters(hyperparameter_list, RandomForest)\n",
    "print(best_max_depth, best_criterion, best_n_estimator, best_max_feature)\n",
    "forest = RandomForest(n_estimators=best_n_estimator, max_depth=best_max_depth, criterion=best_criterion, max_features=best_max_feature, random_state=seed)\n",
    "forest.fit(X_train, y_train)\n",
    "print(f\"Training accuracy: {metrics.accuracy_score(y_train, forest.predict(X_train))}\")\n",
    "print(f\"Validation accuracy: {metrics.accuracy_score(y_test, forest.predict(X_test))}\")"
   ]
  },
  {
   "cell_type": "code",
   "execution_count": 45,
   "metadata": {},
   "outputs": [
    {
     "name": "stdout",
     "output_type": "stream",
     "text": [
      "Training accuracy: 0.9828571428571429\n",
      "Validation accuracy: 0.8866666666666667\n"
     ]
    }
   ],
   "source": [
    "best_max_depth, best_criterion, best_n_estimator, best_max_feature = tune_hyperparameters(hyperparameter_list, RandomForestClassifier)\n",
    "print(best_max_depth, best_criterion, best_n_estimator, best_max_feature)\n",
    "forest = RandomForestClassifier(n_estimators=best_n_estimator, max_depth=best_max_depth, criterion=best_criterion, max_features=best_max_feature, random_state=seed)\n",
    "forest.fit(X_train, y_train)\n",
    "print(f\"Training accuracy: {metrics.accuracy_score(y_train, forest.predict(X_train))}\")\n",
    "print(f\"Validation accuracy: {metrics.accuracy_score(y_test, forest.predict(X_test))}\")"
   ]
  },
  {
   "cell_type": "markdown",
   "metadata": {},
   "source": [
    "## Coffee dataset"
   ]
  },
  {
   "cell_type": "code",
   "execution_count": 6,
   "metadata": {},
   "outputs": [
    {
     "name": "stdout",
     "output_type": "stream",
     "text": [
      "0.0%\n",
      "Estimators:  1\n",
      "2.314814814814815%\n",
      "Estimators:  5\n",
      "4.62962962962963%\n",
      "Estimators:  20\n",
      "6.944444444444445%\n",
      "Estimators:  5\n",
      "9.25925925925926%\n",
      "Estimators:  10\n",
      "11.574074074074074%\n",
      "Estimators:  1\n",
      "13.88888888888889%\n",
      "Estimators:  10\n",
      "16.203703703703702%\n",
      "Estimators:  20\n",
      "18.51851851851852%\n",
      "Estimators:  5\n",
      "20.833333333333336%\n",
      "Estimators:  20\n",
      "23.14814814814815%\n",
      "Estimators:  1\n",
      "25.462962962962965%\n",
      "Estimators:  10\n",
      "27.77777777777778%\n",
      "Estimators:  1\n",
      "30.09259259259259%\n",
      "Estimators:  5\n",
      "32.407407407407405%\n",
      "Estimators:  20\n",
      "34.72222222222222%\n",
      "Estimators:  5\n",
      "37.03703703703704%\n",
      "Estimators:  10\n",
      "39.351851851851855%\n",
      "Estimators:  1\n",
      "41.66666666666667%\n",
      "Estimators:  10\n",
      "43.98148148148148%\n",
      "Estimators:  20\n",
      "46.2962962962963%\n",
      "Estimators:  5\n",
      "48.61111111111111%\n",
      "Estimators:  20\n",
      "50.92592592592593%\n",
      "Estimators:  1\n",
      "53.24074074074075%\n",
      "Estimators:  10\n",
      "55.55555555555556%\n",
      "Estimators:  1\n",
      "57.870370370370374%\n",
      "Estimators:  5\n",
      "60.18518518518518%\n",
      "Estimators:  20\n",
      "62.5%\n",
      "Estimators:  5\n",
      "64.81481481481481%\n",
      "Estimators:  10\n",
      "67.12962962962963%\n",
      "Estimators:  1\n",
      "69.44444444444444%\n",
      "Estimators:  10\n",
      "71.75925925925925%\n",
      "Estimators:  20\n",
      "74.07407407407408%\n",
      "Estimators:  5\n",
      "76.38888888888889%\n",
      "Estimators:  20\n",
      "78.70370370370371%\n",
      "Estimators:  1\n",
      "81.01851851851852%\n",
      "Estimators:  10\n",
      "83.33333333333334%\n",
      "Estimators:  1\n",
      "85.64814814814815%\n",
      "Estimators:  5\n",
      "87.96296296296296%\n",
      "Estimators:  20\n",
      "90.27777777777779%\n",
      "Estimators:  5\n",
      "92.5925925925926%\n",
      "Estimators:  10\n",
      "94.9074074074074%\n",
      "Estimators:  1\n",
      "97.22222222222221%\n",
      "Estimators:  10\n",
      "99.53703703703704%\n",
      "Estimators:  20\n",
      "9 gini 10 sqrt\n"
     ]
    }
   ],
   "source": [
    "data = np.genfromtxt(\"datasets/coffee_data.csv\", delimiter=\",\", dtype=float, names=True)\n",
    "\n",
    "feature_names = list(data.dtype.names[:-1])\n",
    "target_name = data.dtype.names[-1]\n",
    "\n",
    "X = np.array([data[feature] for feature in feature_names]).T\n",
    "y = data[target_name].astype(int)\n",
    "\n",
    "X_train, X_test, y_train, y_test = train_test_split(X, y, train_size=0.7, test_size=0.3, shuffle=True, random_state=seed)"
   ]
  },
  {
   "cell_type": "code",
   "execution_count": 29,
   "metadata": {},
   "outputs": [
    {
     "name": "stdout",
     "output_type": "stream",
     "text": [
      "0.0%\n",
      "2.3%\n",
      "4.6%\n",
      "6.9%\n",
      "9.3%\n",
      "11.6%\n",
      "13.9%\n",
      "16.2%\n",
      "18.5%\n",
      "20.8%\n",
      "23.1%\n",
      "25.5%\n",
      "27.8%\n",
      "30.1%\n",
      "32.4%\n",
      "34.7%\n",
      "37.0%\n",
      "39.4%\n",
      "41.7%\n",
      "44.0%\n",
      "46.3%\n",
      "48.6%\n"
     ]
    },
    {
     "ename": "KeyboardInterrupt",
     "evalue": "",
     "output_type": "error",
     "traceback": [
      "\u001b[0;31m---------------------------------------------------------------------------\u001b[0m",
      "\u001b[0;31mKeyboardInterrupt\u001b[0m                         Traceback (most recent call last)",
      "Cell \u001b[0;32mIn[29], line 1\u001b[0m\n\u001b[0;32m----> 1\u001b[0m best_max_depth, best_criterion, best_n_estimator, best_max_feature \u001b[38;5;241m=\u001b[39m \u001b[43mtune_hyperparameters\u001b[49m\u001b[43m(\u001b[49m\u001b[43mhyperparameter_list\u001b[49m\u001b[43m,\u001b[49m\u001b[43m \u001b[49m\u001b[43mRandomForest\u001b[49m\u001b[43m)\u001b[49m\n\u001b[1;32m      2\u001b[0m \u001b[38;5;28mprint\u001b[39m(best_max_depth, best_criterion, best_n_estimator, best_max_feature)\n\u001b[1;32m      3\u001b[0m forest \u001b[38;5;241m=\u001b[39m RandomForestClassifier(n_estimators\u001b[38;5;241m=\u001b[39mbest_n_estimator, max_depth\u001b[38;5;241m=\u001b[39mbest_max_depth, criterion\u001b[38;5;241m=\u001b[39mbest_criterion, max_features\u001b[38;5;241m=\u001b[39mbest_max_feature, random_state\u001b[38;5;241m=\u001b[39mseed)\n",
      "Cell \u001b[0;32mIn[27], line 21\u001b[0m, in \u001b[0;36mtune_hyperparameters\u001b[0;34m(hyperparameter_list, classifier)\u001b[0m\n\u001b[1;32m     19\u001b[0m X_train_fold, X_val_fold \u001b[38;5;241m=\u001b[39m X_train[train_index], X_train[val_index]\n\u001b[1;32m     20\u001b[0m y_train_fold, y_val_fold \u001b[38;5;241m=\u001b[39m y_train[train_index], y_train[val_index]\n\u001b[0;32m---> 21\u001b[0m \u001b[43mforest\u001b[49m\u001b[38;5;241;43m.\u001b[39;49m\u001b[43mfit\u001b[49m\u001b[43m(\u001b[49m\u001b[43mX_train_fold\u001b[49m\u001b[43m,\u001b[49m\u001b[43m \u001b[49m\u001b[43my_train_fold\u001b[49m\u001b[43m)\u001b[49m\n\u001b[1;32m     22\u001b[0m val_score \u001b[38;5;241m=\u001b[39m metrics\u001b[38;5;241m.\u001b[39mmean_squared_error(y_val_fold, forest\u001b[38;5;241m.\u001b[39mpredict(X_val_fold))\n\u001b[1;32m     23\u001b[0m val_scores\u001b[38;5;241m.\u001b[39mappend(val_score)\n",
      "File \u001b[0;32m~/Documents/Skole/INF264/proj1/INF264-project1/random_forest.py:24\u001b[0m, in \u001b[0;36mRandomForest.fit\u001b[0;34m(self, X, y)\u001b[0m\n\u001b[1;32m     22\u001b[0m \u001b[38;5;28;01mdef\u001b[39;00m \u001b[38;5;21mfit\u001b[39m(\u001b[38;5;28mself\u001b[39m, X: np\u001b[38;5;241m.\u001b[39mndarray, y: np\u001b[38;5;241m.\u001b[39mndarray):\n\u001b[1;32m     23\u001b[0m     \u001b[38;5;28mself\u001b[39m\u001b[38;5;241m.\u001b[39mestimators \u001b[38;5;241m=\u001b[39m [\n\u001b[0;32m---> 24\u001b[0m         \u001b[38;5;28;43mself\u001b[39;49m\u001b[38;5;241;43m.\u001b[39;49m\u001b[43mmake_random_estimator\u001b[49m\u001b[43m(\u001b[49m\u001b[43mX\u001b[49m\u001b[43m,\u001b[49m\u001b[43m \u001b[49m\u001b[43my\u001b[49m\u001b[43m)\u001b[49m \u001b[38;5;28;01mfor\u001b[39;00m _ \u001b[38;5;129;01min\u001b[39;00m \u001b[38;5;28mrange\u001b[39m(\u001b[38;5;28mself\u001b[39m\u001b[38;5;241m.\u001b[39mn_estimators)\n\u001b[1;32m     25\u001b[0m     ]\n",
      "File \u001b[0;32m~/Documents/Skole/INF264/proj1/INF264-project1/random_forest.py:36\u001b[0m, in \u001b[0;36mRandomForest.make_random_estimator\u001b[0;34m(self, X, y)\u001b[0m\n\u001b[1;32m     34\u001b[0m mask \u001b[38;5;241m=\u001b[39m np\u001b[38;5;241m.\u001b[39mrandom\u001b[38;5;241m.\u001b[39mchoice(\u001b[38;5;28mrange\u001b[39m(\u001b[38;5;28mlen\u001b[39m(X)), size\u001b[38;5;241m=\u001b[39m\u001b[38;5;28mlen\u001b[39m(X), replace\u001b[38;5;241m=\u001b[39m\u001b[38;5;28;01mTrue\u001b[39;00m)\n\u001b[1;32m     35\u001b[0m sub_X, sub_y \u001b[38;5;241m=\u001b[39m X[mask], y[mask]\n\u001b[0;32m---> 36\u001b[0m \u001b[43mestimator\u001b[49m\u001b[38;5;241;43m.\u001b[39;49m\u001b[43mfit\u001b[49m\u001b[43m(\u001b[49m\u001b[43msub_X\u001b[49m\u001b[43m,\u001b[49m\u001b[43m \u001b[49m\u001b[43msub_y\u001b[49m\u001b[43m)\u001b[49m\n\u001b[1;32m     37\u001b[0m \u001b[38;5;28;01mreturn\u001b[39;00m estimator\n",
      "File \u001b[0;32m~/Documents/Skole/INF264/proj1/INF264-project1/decision_tree.py:170\u001b[0m, in \u001b[0;36mDecisionTree.fit\u001b[0;34m(self, X, y)\u001b[0m\n\u001b[1;32m    167\u001b[0m \u001b[38;5;28;01mif\u001b[39;00m \u001b[38;5;28mlen\u001b[39m(y) \u001b[38;5;241m!=\u001b[39m \u001b[38;5;28mlen\u001b[39m(X):\n\u001b[1;32m    168\u001b[0m     \u001b[38;5;28;01mraise\u001b[39;00m \u001b[38;5;167;01mValueError\u001b[39;00m(\u001b[38;5;124m\"\u001b[39m\u001b[38;5;124mValues and targets must be same length\u001b[39m\u001b[38;5;124m\"\u001b[39m)\n\u001b[0;32m--> 170\u001b[0m \u001b[38;5;28mself\u001b[39m\u001b[38;5;241m.\u001b[39mroot \u001b[38;5;241m=\u001b[39m \u001b[38;5;28;43mself\u001b[39;49m\u001b[38;5;241;43m.\u001b[39;49m\u001b[43m_build_tree\u001b[49m\u001b[43m(\u001b[49m\u001b[43mX\u001b[49m\u001b[43m,\u001b[49m\u001b[43m \u001b[49m\u001b[43my\u001b[49m\u001b[43m,\u001b[49m\u001b[43m \u001b[49m\u001b[38;5;241;43m0\u001b[39;49m\u001b[43m)\u001b[49m\n",
      "File \u001b[0;32m~/Documents/Skole/INF264/proj1/INF264-project1/decision_tree.py:216\u001b[0m, in \u001b[0;36mDecisionTree._build_tree\u001b[0;34m(self, X, y, depth)\u001b[0m\n\u001b[1;32m    210\u001b[0m X_left, X_right \u001b[38;5;241m=\u001b[39m split(X, msk)\n\u001b[1;32m    211\u001b[0m y_left, y_right \u001b[38;5;241m=\u001b[39m split(y, msk)\n\u001b[1;32m    213\u001b[0m \u001b[38;5;28;01mreturn\u001b[39;00m Node(\n\u001b[1;32m    214\u001b[0m     feature\u001b[38;5;241m=\u001b[39mbest_feature,\n\u001b[1;32m    215\u001b[0m     threshold\u001b[38;5;241m=\u001b[39mthreshold,\n\u001b[0;32m--> 216\u001b[0m     left\u001b[38;5;241m=\u001b[39m\u001b[38;5;28;43mself\u001b[39;49m\u001b[38;5;241;43m.\u001b[39;49m\u001b[43m_build_tree\u001b[49m\u001b[43m(\u001b[49m\u001b[43mX_left\u001b[49m\u001b[43m,\u001b[49m\u001b[43m \u001b[49m\u001b[43my_left\u001b[49m\u001b[43m,\u001b[49m\u001b[43m \u001b[49m\u001b[43mdepth\u001b[49m\u001b[43m \u001b[49m\u001b[38;5;241;43m+\u001b[39;49m\u001b[43m \u001b[49m\u001b[38;5;241;43m1\u001b[39;49m\u001b[43m)\u001b[49m,\n\u001b[1;32m    217\u001b[0m     right\u001b[38;5;241m=\u001b[39m\u001b[38;5;28mself\u001b[39m\u001b[38;5;241m.\u001b[39m_build_tree(X_right, y_right, depth \u001b[38;5;241m+\u001b[39m \u001b[38;5;241m1\u001b[39m),\n\u001b[1;32m    218\u001b[0m )\n",
      "File \u001b[0;32m~/Documents/Skole/INF264/proj1/INF264-project1/decision_tree.py:217\u001b[0m, in \u001b[0;36mDecisionTree._build_tree\u001b[0;34m(self, X, y, depth)\u001b[0m\n\u001b[1;32m    210\u001b[0m X_left, X_right \u001b[38;5;241m=\u001b[39m split(X, msk)\n\u001b[1;32m    211\u001b[0m y_left, y_right \u001b[38;5;241m=\u001b[39m split(y, msk)\n\u001b[1;32m    213\u001b[0m \u001b[38;5;28;01mreturn\u001b[39;00m Node(\n\u001b[1;32m    214\u001b[0m     feature\u001b[38;5;241m=\u001b[39mbest_feature,\n\u001b[1;32m    215\u001b[0m     threshold\u001b[38;5;241m=\u001b[39mthreshold,\n\u001b[1;32m    216\u001b[0m     left\u001b[38;5;241m=\u001b[39m\u001b[38;5;28mself\u001b[39m\u001b[38;5;241m.\u001b[39m_build_tree(X_left, y_left, depth \u001b[38;5;241m+\u001b[39m \u001b[38;5;241m1\u001b[39m),\n\u001b[0;32m--> 217\u001b[0m     right\u001b[38;5;241m=\u001b[39m\u001b[38;5;28;43mself\u001b[39;49m\u001b[38;5;241;43m.\u001b[39;49m\u001b[43m_build_tree\u001b[49m\u001b[43m(\u001b[49m\u001b[43mX_right\u001b[49m\u001b[43m,\u001b[49m\u001b[43m \u001b[49m\u001b[43my_right\u001b[49m\u001b[43m,\u001b[49m\u001b[43m \u001b[49m\u001b[43mdepth\u001b[49m\u001b[43m \u001b[49m\u001b[38;5;241;43m+\u001b[39;49m\u001b[43m \u001b[49m\u001b[38;5;241;43m1\u001b[39;49m\u001b[43m)\u001b[49m,\n\u001b[1;32m    218\u001b[0m )\n",
      "File \u001b[0;32m~/Documents/Skole/INF264/proj1/INF264-project1/decision_tree.py:216\u001b[0m, in \u001b[0;36mDecisionTree._build_tree\u001b[0;34m(self, X, y, depth)\u001b[0m\n\u001b[1;32m    210\u001b[0m X_left, X_right \u001b[38;5;241m=\u001b[39m split(X, msk)\n\u001b[1;32m    211\u001b[0m y_left, y_right \u001b[38;5;241m=\u001b[39m split(y, msk)\n\u001b[1;32m    213\u001b[0m \u001b[38;5;28;01mreturn\u001b[39;00m Node(\n\u001b[1;32m    214\u001b[0m     feature\u001b[38;5;241m=\u001b[39mbest_feature,\n\u001b[1;32m    215\u001b[0m     threshold\u001b[38;5;241m=\u001b[39mthreshold,\n\u001b[0;32m--> 216\u001b[0m     left\u001b[38;5;241m=\u001b[39m\u001b[38;5;28;43mself\u001b[39;49m\u001b[38;5;241;43m.\u001b[39;49m\u001b[43m_build_tree\u001b[49m\u001b[43m(\u001b[49m\u001b[43mX_left\u001b[49m\u001b[43m,\u001b[49m\u001b[43m \u001b[49m\u001b[43my_left\u001b[49m\u001b[43m,\u001b[49m\u001b[43m \u001b[49m\u001b[43mdepth\u001b[49m\u001b[43m \u001b[49m\u001b[38;5;241;43m+\u001b[39;49m\u001b[43m \u001b[49m\u001b[38;5;241;43m1\u001b[39;49m\u001b[43m)\u001b[49m,\n\u001b[1;32m    217\u001b[0m     right\u001b[38;5;241m=\u001b[39m\u001b[38;5;28mself\u001b[39m\u001b[38;5;241m.\u001b[39m_build_tree(X_right, y_right, depth \u001b[38;5;241m+\u001b[39m \u001b[38;5;241m1\u001b[39m),\n\u001b[1;32m    218\u001b[0m )\n",
      "File \u001b[0;32m~/Documents/Skole/INF264/proj1/INF264-project1/decision_tree.py:216\u001b[0m, in \u001b[0;36mDecisionTree._build_tree\u001b[0;34m(self, X, y, depth)\u001b[0m\n\u001b[1;32m    210\u001b[0m X_left, X_right \u001b[38;5;241m=\u001b[39m split(X, msk)\n\u001b[1;32m    211\u001b[0m y_left, y_right \u001b[38;5;241m=\u001b[39m split(y, msk)\n\u001b[1;32m    213\u001b[0m \u001b[38;5;28;01mreturn\u001b[39;00m Node(\n\u001b[1;32m    214\u001b[0m     feature\u001b[38;5;241m=\u001b[39mbest_feature,\n\u001b[1;32m    215\u001b[0m     threshold\u001b[38;5;241m=\u001b[39mthreshold,\n\u001b[0;32m--> 216\u001b[0m     left\u001b[38;5;241m=\u001b[39m\u001b[38;5;28;43mself\u001b[39;49m\u001b[38;5;241;43m.\u001b[39;49m\u001b[43m_build_tree\u001b[49m\u001b[43m(\u001b[49m\u001b[43mX_left\u001b[49m\u001b[43m,\u001b[49m\u001b[43m \u001b[49m\u001b[43my_left\u001b[49m\u001b[43m,\u001b[49m\u001b[43m \u001b[49m\u001b[43mdepth\u001b[49m\u001b[43m \u001b[49m\u001b[38;5;241;43m+\u001b[39;49m\u001b[43m \u001b[49m\u001b[38;5;241;43m1\u001b[39;49m\u001b[43m)\u001b[49m,\n\u001b[1;32m    217\u001b[0m     right\u001b[38;5;241m=\u001b[39m\u001b[38;5;28mself\u001b[39m\u001b[38;5;241m.\u001b[39m_build_tree(X_right, y_right, depth \u001b[38;5;241m+\u001b[39m \u001b[38;5;241m1\u001b[39m),\n\u001b[1;32m    218\u001b[0m )\n",
      "File \u001b[0;32m~/Documents/Skole/INF264/proj1/INF264-project1/decision_tree.py:217\u001b[0m, in \u001b[0;36mDecisionTree._build_tree\u001b[0;34m(self, X, y, depth)\u001b[0m\n\u001b[1;32m    210\u001b[0m X_left, X_right \u001b[38;5;241m=\u001b[39m split(X, msk)\n\u001b[1;32m    211\u001b[0m y_left, y_right \u001b[38;5;241m=\u001b[39m split(y, msk)\n\u001b[1;32m    213\u001b[0m \u001b[38;5;28;01mreturn\u001b[39;00m Node(\n\u001b[1;32m    214\u001b[0m     feature\u001b[38;5;241m=\u001b[39mbest_feature,\n\u001b[1;32m    215\u001b[0m     threshold\u001b[38;5;241m=\u001b[39mthreshold,\n\u001b[1;32m    216\u001b[0m     left\u001b[38;5;241m=\u001b[39m\u001b[38;5;28mself\u001b[39m\u001b[38;5;241m.\u001b[39m_build_tree(X_left, y_left, depth \u001b[38;5;241m+\u001b[39m \u001b[38;5;241m1\u001b[39m),\n\u001b[0;32m--> 217\u001b[0m     right\u001b[38;5;241m=\u001b[39m\u001b[38;5;28;43mself\u001b[39;49m\u001b[38;5;241;43m.\u001b[39;49m\u001b[43m_build_tree\u001b[49m\u001b[43m(\u001b[49m\u001b[43mX_right\u001b[49m\u001b[43m,\u001b[49m\u001b[43m \u001b[49m\u001b[43my_right\u001b[49m\u001b[43m,\u001b[49m\u001b[43m \u001b[49m\u001b[43mdepth\u001b[49m\u001b[43m \u001b[49m\u001b[38;5;241;43m+\u001b[39;49m\u001b[43m \u001b[49m\u001b[38;5;241;43m1\u001b[39;49m\u001b[43m)\u001b[49m,\n\u001b[1;32m    218\u001b[0m )\n",
      "File \u001b[0;32m~/Documents/Skole/INF264/proj1/INF264-project1/decision_tree.py:216\u001b[0m, in \u001b[0;36mDecisionTree._build_tree\u001b[0;34m(self, X, y, depth)\u001b[0m\n\u001b[1;32m    210\u001b[0m X_left, X_right \u001b[38;5;241m=\u001b[39m split(X, msk)\n\u001b[1;32m    211\u001b[0m y_left, y_right \u001b[38;5;241m=\u001b[39m split(y, msk)\n\u001b[1;32m    213\u001b[0m \u001b[38;5;28;01mreturn\u001b[39;00m Node(\n\u001b[1;32m    214\u001b[0m     feature\u001b[38;5;241m=\u001b[39mbest_feature,\n\u001b[1;32m    215\u001b[0m     threshold\u001b[38;5;241m=\u001b[39mthreshold,\n\u001b[0;32m--> 216\u001b[0m     left\u001b[38;5;241m=\u001b[39m\u001b[38;5;28;43mself\u001b[39;49m\u001b[38;5;241;43m.\u001b[39;49m\u001b[43m_build_tree\u001b[49m\u001b[43m(\u001b[49m\u001b[43mX_left\u001b[49m\u001b[43m,\u001b[49m\u001b[43m \u001b[49m\u001b[43my_left\u001b[49m\u001b[43m,\u001b[49m\u001b[43m \u001b[49m\u001b[43mdepth\u001b[49m\u001b[43m \u001b[49m\u001b[38;5;241;43m+\u001b[39;49m\u001b[43m \u001b[49m\u001b[38;5;241;43m1\u001b[39;49m\u001b[43m)\u001b[49m,\n\u001b[1;32m    217\u001b[0m     right\u001b[38;5;241m=\u001b[39m\u001b[38;5;28mself\u001b[39m\u001b[38;5;241m.\u001b[39m_build_tree(X_right, y_right, depth \u001b[38;5;241m+\u001b[39m \u001b[38;5;241m1\u001b[39m),\n\u001b[1;32m    218\u001b[0m )\n",
      "File \u001b[0;32m~/Documents/Skole/INF264/proj1/INF264-project1/decision_tree.py:198\u001b[0m, in \u001b[0;36mDecisionTree._build_tree\u001b[0;34m(self, X, y, depth)\u001b[0m\n\u001b[1;32m    193\u001b[0m msk \u001b[38;5;241m=\u001b[39m mask(features, mean)\n\u001b[1;32m    194\u001b[0m left, right \u001b[38;5;241m=\u001b[39m split(X, msk)\n\u001b[1;32m    196\u001b[0m information_gain \u001b[38;5;241m=\u001b[39m \u001b[38;5;28mself\u001b[39m\u001b[38;5;241m.\u001b[39mcalculate_information(X) \u001b[38;5;241m-\u001b[39m (\n\u001b[1;32m    197\u001b[0m     \u001b[38;5;28mlen\u001b[39m(left) \u001b[38;5;241m/\u001b[39m N \u001b[38;5;241m*\u001b[39m \u001b[38;5;28mself\u001b[39m\u001b[38;5;241m.\u001b[39mcalculate_information(left)\n\u001b[0;32m--> 198\u001b[0m     \u001b[38;5;241m+\u001b[39m \u001b[38;5;28mlen\u001b[39m(right) \u001b[38;5;241m/\u001b[39m N \u001b[38;5;241m*\u001b[39m \u001b[38;5;28;43mself\u001b[39;49m\u001b[38;5;241;43m.\u001b[39;49m\u001b[43mcalculate_information\u001b[49m\u001b[43m(\u001b[49m\u001b[43mright\u001b[49m\u001b[43m)\u001b[49m\n\u001b[1;32m    199\u001b[0m )\n\u001b[1;32m    201\u001b[0m \u001b[38;5;28;01mif\u001b[39;00m information_gain \u001b[38;5;241m>\u001b[39m max_info_gain:\n\u001b[1;32m    202\u001b[0m     max_info_gain \u001b[38;5;241m=\u001b[39m information_gain\n",
      "File \u001b[0;32m~/Documents/Skole/INF264/proj1/INF264-project1/decision_tree.py:35\u001b[0m, in \u001b[0;36mentropy\u001b[0;34m(y)\u001b[0m\n\u001b[1;32m     31\u001b[0m \u001b[38;5;28;01mdef\u001b[39;00m \u001b[38;5;21mentropy\u001b[39m(y: np\u001b[38;5;241m.\u001b[39mndarray) \u001b[38;5;241m-\u001b[39m\u001b[38;5;241m>\u001b[39m \u001b[38;5;28mfloat\u001b[39m:\n\u001b[1;32m     32\u001b[0m \u001b[38;5;250m    \u001b[39m\u001b[38;5;124;03m\"\"\"\u001b[39;00m\n\u001b[1;32m     33\u001b[0m \u001b[38;5;124;03m    Return the entropy of a given NumPy array y.\u001b[39;00m\n\u001b[1;32m     34\u001b[0m \u001b[38;5;124;03m    \"\"\"\u001b[39;00m\n\u001b[0;32m---> 35\u001b[0m     \u001b[38;5;28;01mreturn\u001b[39;00m \u001b[38;5;241m-\u001b[39mnp\u001b[38;5;241m.\u001b[39msum(\u001b[43mcount\u001b[49m\u001b[43m(\u001b[49m\u001b[43my\u001b[49m\u001b[43m)\u001b[49m \u001b[38;5;241m*\u001b[39m np\u001b[38;5;241m.\u001b[39mlog2(count(y)))\n",
      "File \u001b[0;32m~/Documents/Skole/INF264/proj1/INF264-project1/decision_tree.py:17\u001b[0m, in \u001b[0;36mcount\u001b[0;34m(y)\u001b[0m\n\u001b[1;32m     11\u001b[0m \u001b[38;5;28;01mdef\u001b[39;00m \u001b[38;5;21mcount\u001b[39m(y: np\u001b[38;5;241m.\u001b[39mndarray) \u001b[38;5;241m-\u001b[39m\u001b[38;5;241m>\u001b[39m np\u001b[38;5;241m.\u001b[39mndarray:\n\u001b[1;32m     12\u001b[0m \u001b[38;5;250m    \u001b[39m\u001b[38;5;124;03m\"\"\"\u001b[39;00m\n\u001b[1;32m     13\u001b[0m \u001b[38;5;124;03m    Count unique values in y and return the proportions of each class sorted by label in ascending order.\u001b[39;00m\n\u001b[1;32m     14\u001b[0m \u001b[38;5;124;03m    Example:\u001b[39;00m\n\u001b[1;32m     15\u001b[0m \u001b[38;5;124;03m        count(np.array([3, 0, 0, 1, 1, 1, 2, 2, 2, 2, 5])) -> np.array([0.2, 0.3, 0.4, 0.1])\u001b[39;00m\n\u001b[1;32m     16\u001b[0m \u001b[38;5;124;03m    \"\"\"\u001b[39;00m\n\u001b[0;32m---> 17\u001b[0m     _, counts \u001b[38;5;241m=\u001b[39m \u001b[43mnp\u001b[49m\u001b[38;5;241;43m.\u001b[39;49m\u001b[43munique\u001b[49m\u001b[43m(\u001b[49m\u001b[43my\u001b[49m\u001b[43m,\u001b[49m\u001b[43m \u001b[49m\u001b[43mreturn_counts\u001b[49m\u001b[38;5;241;43m=\u001b[39;49m\u001b[38;5;28;43;01mTrue\u001b[39;49;00m\u001b[43m)\u001b[49m\n\u001b[1;32m     18\u001b[0m     \u001b[38;5;28;01mreturn\u001b[39;00m counts \u001b[38;5;241m/\u001b[39m \u001b[38;5;28mlen\u001b[39m(y)\n",
      "File \u001b[0;32m/opt/anaconda3/envs/INF264/lib/python3.12/site-packages/numpy/lib/_arraysetops_impl.py:291\u001b[0m, in \u001b[0;36munique\u001b[0;34m(ar, return_index, return_inverse, return_counts, axis, equal_nan)\u001b[0m\n\u001b[1;32m    289\u001b[0m ar \u001b[38;5;241m=\u001b[39m np\u001b[38;5;241m.\u001b[39masanyarray(ar)\n\u001b[1;32m    290\u001b[0m \u001b[38;5;28;01mif\u001b[39;00m axis \u001b[38;5;129;01mis\u001b[39;00m \u001b[38;5;28;01mNone\u001b[39;00m:\n\u001b[0;32m--> 291\u001b[0m     ret \u001b[38;5;241m=\u001b[39m \u001b[43m_unique1d\u001b[49m\u001b[43m(\u001b[49m\u001b[43mar\u001b[49m\u001b[43m,\u001b[49m\u001b[43m \u001b[49m\u001b[43mreturn_index\u001b[49m\u001b[43m,\u001b[49m\u001b[43m \u001b[49m\u001b[43mreturn_inverse\u001b[49m\u001b[43m,\u001b[49m\u001b[43m \u001b[49m\u001b[43mreturn_counts\u001b[49m\u001b[43m,\u001b[49m\u001b[43m \u001b[49m\n\u001b[1;32m    292\u001b[0m \u001b[43m                    \u001b[49m\u001b[43mequal_nan\u001b[49m\u001b[38;5;241;43m=\u001b[39;49m\u001b[43mequal_nan\u001b[49m\u001b[43m,\u001b[49m\u001b[43m \u001b[49m\u001b[43minverse_shape\u001b[49m\u001b[38;5;241;43m=\u001b[39;49m\u001b[43mar\u001b[49m\u001b[38;5;241;43m.\u001b[39;49m\u001b[43mshape\u001b[49m\u001b[43m,\u001b[49m\u001b[43m \u001b[49m\u001b[43maxis\u001b[49m\u001b[38;5;241;43m=\u001b[39;49m\u001b[38;5;28;43;01mNone\u001b[39;49;00m\u001b[43m)\u001b[49m\n\u001b[1;32m    293\u001b[0m     \u001b[38;5;28;01mreturn\u001b[39;00m _unpack_tuple(ret)\n\u001b[1;32m    295\u001b[0m \u001b[38;5;66;03m# axis was specified and not None\u001b[39;00m\n",
      "File \u001b[0;32m/opt/anaconda3/envs/INF264/lib/python3.12/site-packages/numpy/lib/_arraysetops_impl.py:385\u001b[0m, in \u001b[0;36m_unique1d\u001b[0;34m(ar, return_index, return_inverse, return_counts, equal_nan, inverse_shape, axis)\u001b[0m\n\u001b[1;32m    383\u001b[0m     ret \u001b[38;5;241m+\u001b[39m\u001b[38;5;241m=\u001b[39m (inv_idx\u001b[38;5;241m.\u001b[39mreshape(inverse_shape) \u001b[38;5;28;01mif\u001b[39;00m axis \u001b[38;5;129;01mis\u001b[39;00m \u001b[38;5;28;01mNone\u001b[39;00m \u001b[38;5;28;01melse\u001b[39;00m inv_idx,)\n\u001b[1;32m    384\u001b[0m \u001b[38;5;28;01mif\u001b[39;00m return_counts:\n\u001b[0;32m--> 385\u001b[0m     idx \u001b[38;5;241m=\u001b[39m \u001b[43mnp\u001b[49m\u001b[38;5;241;43m.\u001b[39;49m\u001b[43mconcatenate\u001b[49m\u001b[43m(\u001b[49m\u001b[43mnp\u001b[49m\u001b[38;5;241;43m.\u001b[39;49m\u001b[43mnonzero\u001b[49m\u001b[43m(\u001b[49m\u001b[43mmask\u001b[49m\u001b[43m)\u001b[49m\u001b[43m \u001b[49m\u001b[38;5;241;43m+\u001b[39;49m\u001b[43m \u001b[49m\u001b[43m(\u001b[49m\u001b[43m[\u001b[49m\u001b[43mmask\u001b[49m\u001b[38;5;241;43m.\u001b[39;49m\u001b[43msize\u001b[49m\u001b[43m]\u001b[49m\u001b[43m,\u001b[49m\u001b[43m)\u001b[49m\u001b[43m)\u001b[49m\n\u001b[1;32m    386\u001b[0m     ret \u001b[38;5;241m+\u001b[39m\u001b[38;5;241m=\u001b[39m (np\u001b[38;5;241m.\u001b[39mdiff(idx),)\n\u001b[1;32m    387\u001b[0m \u001b[38;5;28;01mreturn\u001b[39;00m ret\n",
      "\u001b[0;31mKeyboardInterrupt\u001b[0m: "
     ]
    }
   ],
   "source": [
    "best_max_depth, best_criterion, best_n_estimator, best_max_feature = tune_hyperparameters(hyperparameter_list, RandomForest)\n",
    "print(best_max_depth, best_criterion, best_n_estimator, best_max_feature)\n",
    "forest = RandomForest(n_estimators=best_n_estimator, max_depth=best_max_depth, criterion=best_criterion, max_features=best_max_feature, random_state=seed)\n",
    "forest.fit(X_train, y_train)\n",
    "print(f\"Training accuracy: {metrics.accuracy_score(y_train, forest.predict(X_train))}\")\n",
    "print(f\"Validation accuracy: {metrics.accuracy_score(y_test, forest.predict(X_test))}\")"
   ]
  },
  {
   "cell_type": "code",
   "execution_count": 7,
   "metadata": {},
   "outputs": [
    {
     "name": "stdout",
     "output_type": "stream",
     "text": [
      "Training accuracy: 0.9914285714285714\n",
      "Validation accuracy: 0.8666666666666667\n"
     ]
    }
   ],
   "source": [
    "best_max_depth, best_criterion, best_n_estimator, best_max_feature = tune_hyperparameters(hyperparameter_list, RandomForestClassifier)\n",
    "forest = RandomForestClassifier(n_estimators=best_n_estimator, max_depth=best_max_depth, criterion=best_criterion, max_features=best_max_feature, random_state=seed)\n",
    "forest.fit(X_train, y_train)\n",
    "print(f\"Training accuracy: {metrics.accuracy_score(y_train, forest.predict(X_train))}\")\n",
    "print(f\"Validation accuracy: {metrics.accuracy_score(y_test, forest.predict(X_test))}\")"
   ]
  }
 ],
 "metadata": {
  "kernelspec": {
   "display_name": "INF264",
   "language": "python",
   "name": "python3"
  },
  "language_info": {
   "codemirror_mode": {
    "name": "ipython",
    "version": 3
   },
   "file_extension": ".py",
   "mimetype": "text/x-python",
   "name": "python",
   "nbconvert_exporter": "python",
   "pygments_lexer": "ipython3",
   "version": "3.12.2"
  }
 },
 "nbformat": 4,
 "nbformat_minor": 2
}
